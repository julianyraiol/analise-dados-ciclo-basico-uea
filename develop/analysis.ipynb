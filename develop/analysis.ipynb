{
 "cells": [
  {
   "cell_type": "markdown",
   "metadata": {},
   "source": [
    "# Análise do aproveitamento dos estudantes da Universidade do Estado do Amazonas\n",
    "> Aluna: Juliany Raiol"
   ]
  },
  {
   "cell_type": "markdown",
   "metadata": {},
   "source": [
    "## Introdução"
   ]
  },
  {
   "cell_type": "markdown",
   "metadata": {},
   "source": [
    "Este dataset contém informações sobre os alunos do que cursaram matérias ofertadas durante o período de 2013 - 2014 na Universidade do Estado do Amazonas (UEA). Inicialmente, considerou-se que havia apenas dados referentes à matérias do ciclo básico, no entanto, após o processo de análise observou-se que há também informações de alunos veteranos.\n",
    "\n",
    "O objetivo dessa análise é poder verificar quais matérias possuem maior índice de reprovação, bem como, descobrir se há uma ligação entre a origem do aluno e seu desempenho acadêmico."
   ]
  },
  {
   "cell_type": "markdown",
   "metadata": {},
   "source": [
    "## Considerações que deseja-se responder com esta análise"
   ]
  },
  {
   "cell_type": "markdown",
   "metadata": {},
   "source": [
    "1. É possível considerar que alunos provenientes de municípios distantes da capital possuem desempenho menor que outros?\n",
    "2. Qual a faixa etária dos alunos que entram na universidade por meio do SAES (antigo SIS)?\n",
    "3. Há muitos alunos veteranos que ainda cursam matérias consideradas do ciclo básico?\n",
    "4. A média de reprovação qual nos cursos de Análise e Desenvolvimento de Sistemas e Sistemas de Informação é menor que em cursos de Engenharia?"
   ]
  },
  {
   "cell_type": "code",
   "execution_count": 2,
   "metadata": {},
   "outputs": [],
   "source": [
    "import pandas as pd\n",
    "import numpy as np\n",
    "%matplotlib inline\n",
    "import matplotlib.pyplot as plt"
   ]
  },
  {
   "cell_type": "code",
   "execution_count": 3,
   "metadata": {
    "scrolled": true
   },
   "outputs": [
    {
     "data": {
      "text/html": [
       "<div>\n",
       "<style scoped>\n",
       "    .dataframe tbody tr th:only-of-type {\n",
       "        vertical-align: middle;\n",
       "    }\n",
       "\n",
       "    .dataframe tbody tr th {\n",
       "        vertical-align: top;\n",
       "    }\n",
       "\n",
       "    .dataframe thead th {\n",
       "        text-align: right;\n",
       "    }\n",
       "</style>\n",
       "<table border=\"1\" class=\"dataframe\">\n",
       "  <thead>\n",
       "    <tr style=\"text-align: right;\">\n",
       "      <th></th>\n",
       "      <th>aluno</th>\n",
       "      <th>municipio_nascimento</th>\n",
       "      <th>dt_nasc</th>\n",
       "      <th>curso</th>\n",
       "      <th>nome</th>\n",
       "      <th>tipo_ingresso</th>\n",
       "      <th>ano_ingresso</th>\n",
       "      <th>unidade_fisica</th>\n",
       "      <th>serie</th>\n",
       "      <th>disciplina</th>\n",
       "      <th>nome_disciplina</th>\n",
       "      <th>nota_final</th>\n",
       "      <th>situacao_hist</th>\n",
       "      <th>perc_presenca</th>\n",
       "      <th>faltas</th>\n",
       "    </tr>\n",
       "  </thead>\n",
       "  <tbody>\n",
       "    <tr>\n",
       "      <th>0</th>\n",
       "      <td>1</td>\n",
       "      <td>Manaus</td>\n",
       "      <td>23/07/1995</td>\n",
       "      <td>EST17KSN</td>\n",
       "      <td>Análise e Desenvolvimento de Sistemas</td>\n",
       "      <td>SAES</td>\n",
       "      <td>2013</td>\n",
       "      <td>EST</td>\n",
       "      <td>1.0</td>\n",
       "      <td>ESTTPD108</td>\n",
       "      <td>Algoritmos e Programação</td>\n",
       "      <td>5.17</td>\n",
       "      <td>Rep Nota</td>\n",
       "      <td>0.9200</td>\n",
       "      <td>6.0</td>\n",
       "    </tr>\n",
       "    <tr>\n",
       "      <th>1</th>\n",
       "      <td>2</td>\n",
       "      <td>Manaus</td>\n",
       "      <td>23/07/1995</td>\n",
       "      <td>EST17KSN</td>\n",
       "      <td>Análise e Desenvolvimento de Sistemas</td>\n",
       "      <td>SAES</td>\n",
       "      <td>2013</td>\n",
       "      <td>EST</td>\n",
       "      <td>1.0</td>\n",
       "      <td>ESTBAS006</td>\n",
       "      <td>Comunicação e Expressão</td>\n",
       "      <td>6.00</td>\n",
       "      <td>Aprovado</td>\n",
       "      <td>1.0000</td>\n",
       "      <td>-1.0</td>\n",
       "    </tr>\n",
       "    <tr>\n",
       "      <th>2</th>\n",
       "      <td>3</td>\n",
       "      <td>Manaus</td>\n",
       "      <td>23/07/1995</td>\n",
       "      <td>EST17KSN</td>\n",
       "      <td>Análise e Desenvolvimento de Sistemas</td>\n",
       "      <td>SAES</td>\n",
       "      <td>2013</td>\n",
       "      <td>EST</td>\n",
       "      <td>1.0</td>\n",
       "      <td>ESTBAS002</td>\n",
       "      <td>Cálculo I</td>\n",
       "      <td>2.9</td>\n",
       "      <td>Rep Nota</td>\n",
       "      <td>1.0000</td>\n",
       "      <td>0.0</td>\n",
       "    </tr>\n",
       "    <tr>\n",
       "      <th>3</th>\n",
       "      <td>4</td>\n",
       "      <td>Manaus</td>\n",
       "      <td>23/07/1995</td>\n",
       "      <td>EST17KSN</td>\n",
       "      <td>Análise e Desenvolvimento de Sistemas</td>\n",
       "      <td>SAES</td>\n",
       "      <td>2013</td>\n",
       "      <td>EST</td>\n",
       "      <td>1.0</td>\n",
       "      <td>ESTBAS035</td>\n",
       "      <td>Empreendedorismo</td>\n",
       "      <td>8.50</td>\n",
       "      <td>Aprovado</td>\n",
       "      <td>1.0000</td>\n",
       "      <td>-1.0</td>\n",
       "    </tr>\n",
       "    <tr>\n",
       "      <th>4</th>\n",
       "      <td>5</td>\n",
       "      <td>Manaus</td>\n",
       "      <td>23/07/1995</td>\n",
       "      <td>EST17KSN</td>\n",
       "      <td>Análise e Desenvolvimento de Sistemas</td>\n",
       "      <td>SAES</td>\n",
       "      <td>2013</td>\n",
       "      <td>EST</td>\n",
       "      <td>1.0</td>\n",
       "      <td>ESTTPD100</td>\n",
       "      <td>Introdução à Computação</td>\n",
       "      <td>7.70</td>\n",
       "      <td>Aprovado</td>\n",
       "      <td>0.8667</td>\n",
       "      <td>8.0</td>\n",
       "    </tr>\n",
       "  </tbody>\n",
       "</table>\n",
       "</div>"
      ],
      "text/plain": [
       "   aluno municipio_nascimento     dt_nasc     curso  \\\n",
       "0      1               Manaus  23/07/1995  EST17KSN   \n",
       "1      2               Manaus  23/07/1995  EST17KSN   \n",
       "2      3               Manaus  23/07/1995  EST17KSN   \n",
       "3      4               Manaus  23/07/1995  EST17KSN   \n",
       "4      5               Manaus  23/07/1995  EST17KSN   \n",
       "\n",
       "                                    nome tipo_ingresso  ano_ingresso  \\\n",
       "0  Análise e Desenvolvimento de Sistemas          SAES          2013   \n",
       "1  Análise e Desenvolvimento de Sistemas          SAES          2013   \n",
       "2  Análise e Desenvolvimento de Sistemas          SAES          2013   \n",
       "3  Análise e Desenvolvimento de Sistemas          SAES          2013   \n",
       "4  Análise e Desenvolvimento de Sistemas          SAES          2013   \n",
       "\n",
       "  unidade_fisica  serie disciplina           nome_disciplina nota_final  \\\n",
       "0            EST    1.0  ESTTPD108  Algoritmos e Programação       5.17   \n",
       "1            EST    1.0  ESTBAS006   Comunicação e Expressão       6.00   \n",
       "2            EST    1.0  ESTBAS002                 Cálculo I        2.9   \n",
       "3            EST    1.0  ESTBAS035          Empreendedorismo       8.50   \n",
       "4            EST    1.0  ESTTPD100   Introdução à Computação       7.70   \n",
       "\n",
       "  situacao_hist  perc_presenca  faltas  \n",
       "0      Rep Nota         0.9200     6.0  \n",
       "1      Aprovado         1.0000    -1.0  \n",
       "2      Rep Nota         1.0000     0.0  \n",
       "3      Aprovado         1.0000    -1.0  \n",
       "4      Aprovado         0.8667     8.0  "
      ]
     },
     "execution_count": 3,
     "metadata": {},
     "output_type": "execute_result"
    }
   ],
   "source": [
    "dataframe = pd.read_csv('../data/lyceum_2013_2014.csv')\n",
    "dataframe.head()"
   ]
  },
  {
   "cell_type": "markdown",
   "metadata": {},
   "source": [
    "## Características dos atributos"
   ]
  },
  {
   "cell_type": "markdown",
   "metadata": {},
   "source": [
    "\n",
    "\n",
    "| Nome da Coluna     |Classificação  |\n",
    "|:------------------:|:-------------:|\n",
    "| aluno              |  numérico     |\n",
    "|municipio_nascimento|  nominal      |  \n",
    "| dt_nasc            |  nominal      |\n",
    "| curso              |  nominal      |\n",
    "| nome               |  nominal      |\n",
    "| tipo_ingresso      |  nominal      |\n",
    "| ano_ingresso       |  numérico     |\n",
    "| unidade_fisica     |  nominal      |\n",
    "| serie              |  ordinais     |\n",
    "| disciplina         |  nominal      |\n",
    "| nome_disciplina    |  nominal      |"
   ]
  },
  {
   "cell_type": "markdown",
   "metadata": {},
   "source": []
  }
 ],
 "metadata": {
  "kernelspec": {
   "display_name": "Python 2",
   "language": "python",
   "name": "python2"
  },
  "language_info": {
   "codemirror_mode": {
    "name": "ipython",
    "version": 2
   },
   "file_extension": ".py",
   "mimetype": "text/x-python",
   "name": "python",
   "nbconvert_exporter": "python",
   "pygments_lexer": "ipython2",
   "version": "2.7.14"
  }
 },
 "nbformat": 4,
 "nbformat_minor": 2
}
