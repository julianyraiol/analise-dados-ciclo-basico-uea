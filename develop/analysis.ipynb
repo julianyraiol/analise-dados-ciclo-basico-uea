{
 "cells": [
  {
   "cell_type": "markdown",
   "metadata": {},
   "source": [
    "# Análise do aproveitamento dos estudantes da Universidade do Estado do Amazonas\n",
    "> Aluna: Juliany Raiol"
   ]
  },
  {
   "cell_type": "markdown",
   "metadata": {},
   "source": [
    "## Introdução"
   ]
  },
  {
   "cell_type": "markdown",
   "metadata": {},
   "source": [
    "Este dataset contém informações sobre os alunos do que cursaram matérias ofertadas durante o período de 2013 - 2014 na Universidade do Estado do Amazonas (UEA). Inicialmente, considerou-se que havia apenas dados referentes à matérias do ciclo básico, no entanto, após o processo de análise observou-se que há também informações de alunos veteranos.\n",
    "\n",
    "O objetivo dessa análise é poder verificar quais matérias possuem maior índice de reprovação, bem como, descobrir se há uma ligação entre a origem do aluno e seu desempenho acadêmico."
   ]
  },
  {
   "cell_type": "markdown",
   "metadata": {},
   "source": [
    "## Considerações que deseja-se responder com esta análise"
   ]
  },
  {
   "cell_type": "markdown",
   "metadata": {},
   "source": [
    "1. É possível considerar que alunos provenientes de municípios distantes da capital possuem desempenho menor que outros?\n",
    "2. Qual a faixa etária dos alunos que entram na universidade por meio do SAES e ainda cursam matérias consideradas do ciclo básico?\n",
    "3. Há muitos alunos veteranos que ainda cursam matérias consideradas do ciclo básico?\n",
    "4. A média de reprovação qual nos cursos de Análise e Desenvolvimento de Sistemas e Sistemas de Informação é menor que em cursos de Engenharia?"
   ]
  },
  {
   "cell_type": "code",
   "execution_count": 395,
   "metadata": {},
   "outputs": [],
   "source": [
    "import pandas as pd\n",
    "import numpy as np\n",
    "%matplotlib inline\n",
    "import matplotlib.pyplot as plt\n",
    "import datetime\n",
    "from sklearn.decomposition import PCA as sklearnPCA"
   ]
  },
  {
   "cell_type": "code",
   "execution_count": 136,
   "metadata": {
    "scrolled": true
   },
   "outputs": [
    {
     "data": {
      "text/html": [
       "<div>\n",
       "<style scoped>\n",
       "    .dataframe tbody tr th:only-of-type {\n",
       "        vertical-align: middle;\n",
       "    }\n",
       "\n",
       "    .dataframe tbody tr th {\n",
       "        vertical-align: top;\n",
       "    }\n",
       "\n",
       "    .dataframe thead th {\n",
       "        text-align: right;\n",
       "    }\n",
       "</style>\n",
       "<table border=\"1\" class=\"dataframe\">\n",
       "  <thead>\n",
       "    <tr style=\"text-align: right;\">\n",
       "      <th></th>\n",
       "      <th>aluno</th>\n",
       "      <th>municipio_nascimento</th>\n",
       "      <th>nome_curso</th>\n",
       "      <th>tipo_ingresso</th>\n",
       "      <th>ano_ingresso</th>\n",
       "      <th>serie</th>\n",
       "      <th>nome_disciplina</th>\n",
       "      <th>nota_final</th>\n",
       "      <th>situacao_hist</th>\n",
       "      <th>perc_presenca</th>\n",
       "      <th>faltas</th>\n",
       "      <th>idade</th>\n",
       "    </tr>\n",
       "  </thead>\n",
       "  <tbody>\n",
       "    <tr>\n",
       "      <th>0</th>\n",
       "      <td>1</td>\n",
       "      <td>Manaus</td>\n",
       "      <td>Análise e Desenvolvimento de Sistemas</td>\n",
       "      <td>SAES</td>\n",
       "      <td>2013</td>\n",
       "      <td>1.0</td>\n",
       "      <td>Algoritmos e Programação</td>\n",
       "      <td>5.17</td>\n",
       "      <td>Rep Nota</td>\n",
       "      <td>0.9200</td>\n",
       "      <td>6.0</td>\n",
       "      <td>17</td>\n",
       "    </tr>\n",
       "    <tr>\n",
       "      <th>1</th>\n",
       "      <td>2</td>\n",
       "      <td>Manaus</td>\n",
       "      <td>Análise e Desenvolvimento de Sistemas</td>\n",
       "      <td>SAES</td>\n",
       "      <td>2013</td>\n",
       "      <td>1.0</td>\n",
       "      <td>Comunicação e Expressão</td>\n",
       "      <td>6.00</td>\n",
       "      <td>Aprovado</td>\n",
       "      <td>1.0000</td>\n",
       "      <td>-1.0</td>\n",
       "      <td>17</td>\n",
       "    </tr>\n",
       "    <tr>\n",
       "      <th>2</th>\n",
       "      <td>3</td>\n",
       "      <td>Manaus</td>\n",
       "      <td>Análise e Desenvolvimento de Sistemas</td>\n",
       "      <td>SAES</td>\n",
       "      <td>2013</td>\n",
       "      <td>1.0</td>\n",
       "      <td>Cálculo I</td>\n",
       "      <td>2.9</td>\n",
       "      <td>Rep Nota</td>\n",
       "      <td>1.0000</td>\n",
       "      <td>0.0</td>\n",
       "      <td>17</td>\n",
       "    </tr>\n",
       "    <tr>\n",
       "      <th>3</th>\n",
       "      <td>4</td>\n",
       "      <td>Manaus</td>\n",
       "      <td>Análise e Desenvolvimento de Sistemas</td>\n",
       "      <td>SAES</td>\n",
       "      <td>2013</td>\n",
       "      <td>1.0</td>\n",
       "      <td>Empreendedorismo</td>\n",
       "      <td>8.50</td>\n",
       "      <td>Aprovado</td>\n",
       "      <td>1.0000</td>\n",
       "      <td>-1.0</td>\n",
       "      <td>17</td>\n",
       "    </tr>\n",
       "    <tr>\n",
       "      <th>4</th>\n",
       "      <td>5</td>\n",
       "      <td>Manaus</td>\n",
       "      <td>Análise e Desenvolvimento de Sistemas</td>\n",
       "      <td>SAES</td>\n",
       "      <td>2013</td>\n",
       "      <td>1.0</td>\n",
       "      <td>Introdução à Computação</td>\n",
       "      <td>7.70</td>\n",
       "      <td>Aprovado</td>\n",
       "      <td>0.8667</td>\n",
       "      <td>8.0</td>\n",
       "      <td>17</td>\n",
       "    </tr>\n",
       "  </tbody>\n",
       "</table>\n",
       "</div>"
      ],
      "text/plain": [
       "   aluno municipio_nascimento                             nome_curso  \\\n",
       "0      1               Manaus  Análise e Desenvolvimento de Sistemas   \n",
       "1      2               Manaus  Análise e Desenvolvimento de Sistemas   \n",
       "2      3               Manaus  Análise e Desenvolvimento de Sistemas   \n",
       "3      4               Manaus  Análise e Desenvolvimento de Sistemas   \n",
       "4      5               Manaus  Análise e Desenvolvimento de Sistemas   \n",
       "\n",
       "  tipo_ingresso  ano_ingresso  serie           nome_disciplina nota_final  \\\n",
       "0          SAES          2013    1.0  Algoritmos e Programação       5.17   \n",
       "1          SAES          2013    1.0   Comunicação e Expressão       6.00   \n",
       "2          SAES          2013    1.0                 Cálculo I        2.9   \n",
       "3          SAES          2013    1.0          Empreendedorismo       8.50   \n",
       "4          SAES          2013    1.0   Introdução à Computação       7.70   \n",
       "\n",
       "  situacao_hist  perc_presenca  faltas  idade  \n",
       "0      Rep Nota         0.9200     6.0     17  \n",
       "1      Aprovado         1.0000    -1.0     17  \n",
       "2      Rep Nota         1.0000     0.0     17  \n",
       "3      Aprovado         1.0000    -1.0     17  \n",
       "4      Aprovado         0.8667     8.0     17  "
      ]
     },
     "execution_count": 136,
     "metadata": {},
     "output_type": "execute_result"
    }
   ],
   "source": [
    "dataframe = pd.read_csv('../data/lyceum_2013_2014.csv')\n",
    "dataframe.head()"
   ]
  },
  {
   "cell_type": "markdown",
   "metadata": {},
   "source": [
    "## Características dos atributos"
   ]
  },
  {
   "cell_type": "markdown",
   "metadata": {},
   "source": [
    "Os atributos encontrados nesse dataset foram classificados como numérico, norminal e ordinal. Pode-se perceber que a quantidade de atributos nominais é maior que os demais tipos.\n",
    "\n",
    "Há cerca de 57075 linhas e 15 colunas. As colunas compreendem: <i> aluno</i>, <i>municipio_nascimento</i>, <i>dt_nasc</i>, <i>id_curso</i>, <i>nome_curso</i>, <i>tipo_ingresso</i>, <i>ano_ingresso</i>, <i>unidade_fisica</i>, <i>serie</i>, <i>id_disciplina</i>, <i>nome_disciplina</i>, <i>nota_final</i>, <i>situacao_hist</i>, <i>perc_presenca</i> e <i>faltas</i>."
   ]
  },
  {
   "cell_type": "markdown",
   "metadata": {},
   "source": [
    "\n",
    "\n",
    "| Nome da Coluna     |Classificação  |\n",
    "|:------------------:|:-------------:|\n",
    "| aluno              |  numérico     |\n",
    "|municipio_nascimento|  nominal      |  \n",
    "| nome_curso         |  nominal      |\n",
    "| tipo_ingresso      |  nominal      |\n",
    "| ano_ingresso       |  numérico     |\n",
    "| serie              |  ordinais     |\n",
    "| nome_disciplina    |  nominal      |\n",
    "| nota final         |  nominal      |\n",
    "| situacao_hist      |  nominal      |\n",
    "| perc_presenca      |  numérico     |\n",
    "| faltas             |  numérico     |\n",
    "| idade              |  numérico     |"
   ]
  },
  {
   "cell_type": "markdown",
   "metadata": {},
   "source": [
    "## Qualidade dos dados"
   ]
  },
  {
   "cell_type": "markdown",
   "metadata": {},
   "source": [
    "<strong> Precisão: </strong> Os dados mostraram-se imprecisos em certas colunas como, por exemplo, em <i> faltas </i> e <i> perc_presenca</i>, havia situações em que os devidos valores não foram cadastrados, alunos que não possuíam faltas lançadas e percentual de presença era nulo. Em certos casos, os que tinham essas características eram aqueles que foram <i> dispensados</i> da disciplina ou haviam <i>trancado</i> a matéria. Em <i>nota final</i>, em determinados campos, ao invés de nulo, encontrava-se apenas espaço em branco (' ')."
   ]
  },
  {
   "cell_type": "markdown",
   "metadata": {},
   "source": [
    "<strong>Precisão semântica: </strong> Nas colunas de <i> faltas </i> e <i> perc_presenca</i>, os valore estavam como string e precisariam estar como ponto flutuante. Logo, fora do alcance da precisão semântica."
   ]
  },
  {
   "cell_type": "markdown",
   "metadata": {},
   "source": [
    "<strong> Precisão sintática: </strong> Nas coluna de <i>nota final </i>, havia valores representados por espaços vazios (' ')."
   ]
  },
  {
   "cell_type": "markdown",
   "metadata": {},
   "source": [
    "<strong>Completude</strong>: Havia valores em falta, no entanto, após formação o dataset contém as informações necessárias para análise."
   ]
  },
  {
   "cell_type": "markdown",
   "metadata": {},
   "source": [
    "<strong>Pontualidade:</strong> Os dados não são tão antigos. Compreendem o período de 2013 - 2014."
   ]
  },
  {
   "cell_type": "markdown",
   "metadata": {},
   "source": [
    "## Visualização dos dados"
   ]
  },
  {
   "cell_type": "markdown",
   "metadata": {},
   "source": [
    "A seguinte tabela mostra a quantidade de ingressantes na universidade no período de 2013-2014"
   ]
  },
  {
   "cell_type": "markdown",
   "metadata": {},
   "source": [
    "## 1. Gráficos de uma dimensão"
   ]
  },
  {
   "cell_type": "code",
   "execution_count": 54,
   "metadata": {
    "scrolled": true
   },
   "outputs": [
    {
     "data": {
      "text/plain": [
       "tipo_ingresso\n",
       "Intercâmbio                9\n",
       "Mand. Seg - SIS           85\n",
       "Mand. Seg. - Vest        131\n",
       "Proc. Sel.                98\n",
       "Proc. Sel. Esp.         8037\n",
       "Proc. Sel. Mest.          88\n",
       "Proc.Sel.Doutorado        67\n",
       "Reopção                  309\n",
       "SAES                   11762\n",
       "SIS                     4828\n",
       "Transf. Facultativa       68\n",
       "Transf.Ex Officio         70\n",
       "Vestibular             31523\n",
       "Name: tipo_ingresso, dtype: int64"
      ]
     },
     "execution_count": 54,
     "metadata": {},
     "output_type": "execute_result"
    }
   ],
   "source": [
    "dataframe.groupby('tipo_ingresso')['tipo_ingresso'].count()"
   ]
  },
  {
   "cell_type": "markdown",
   "metadata": {},
   "source": [
    "A seguinte gráfico mostra a faixa etária dos alunos que cursavam matérias consideradas do ciclo básico e que ingressaram pelo <i>SAES</i>"
   ]
  },
  {
   "cell_type": "code",
   "execution_count": 252,
   "metadata": {},
   "outputs": [],
   "source": [
    "query = dataframe.query(\"tipo_ingresso == 'SAES' & ano_ingresso == 2013\")"
   ]
  },
  {
   "cell_type": "code",
   "execution_count": 272,
   "metadata": {},
   "outputs": [
    {
     "data": {
      "image/png": "[encoded data removed]",
      "text/plain": [
       "<matplotlib.figure.Figure at 0x7f075cd232d0>"
      ]
     },
     "metadata": {},
     "output_type": "display_data"
    }
   ],
   "source": [
    "query = dataframe.query(\"tipo_ingresso == 'SAES'\")\n",
    "query.groupby('idade')['idade'].count().plot(kind='barh', figsize=(20,10), fontsize=15)\n",
    "plt.title('Idade dos estudantes cursavam materias consideradas do ciclo basico e que ingressaram pelo SAES', fontsize=15)\n",
    "plt.xlabel('Quantidade de estudantes', fontsize=15)\n",
    "plt.ylabel('Idade', fontsize=15)\n",
    "plt.show()"
   ]
  },
  {
   "cell_type": "markdown",
   "metadata": {},
   "source": [
    "A seguinte gráfico mostra a situação dos alunos calouros referentes à disciplina de Cálculo I no ano de 2013"
   ]
  },
  {
   "cell_type": "code",
   "execution_count": 284,
   "metadata": {},
   "outputs": [],
   "source": [
    "query = dataframe.query(\"(tipo_ingresso == 'SAES') & (ano_ingresso == 2013) & (municipio_nascimento == 'Manaus') & ((serie == 1 | serie == 2) & nome_disciplina == 'Cálculo I') \")"
   ]
  },
  {
   "cell_type": "code",
   "execution_count": 286,
   "metadata": {},
   "outputs": [
    {
     "data": {
      "image/png": "[encoded data removed]",
      "text/plain": [
       "<matplotlib.figure.Figure at 0x7f075e1c9750>"
      ]
     },
     "metadata": {},
     "output_type": "display_data"
    }
   ],
   "source": [
    "query.groupby('situacao_hist')['situacao_hist'].count().plot(kind='barh', figsize=(20,10), fontsize=15)\n",
    "plt.title('Status de estudantes na disciplina de Calculo I', fontsize=15)\n",
    "plt.xlabel('Quantidade de estudantes', fontsize=15)\n",
    "plt.ylabel('Status na disciplina', fontsize=15)\n",
    "plt.show()"
   ]
  },
  {
   "cell_type": "code",
   "execution_count": 291,
   "metadata": {},
   "outputs": [],
   "source": [
    "query = dataframe.query(\"(ano_ingresso == 2013) & (municipio_nascimento != 'Manaus') & ((serie == 1 | serie == 2)) \")"
   ]
  },
  {
   "cell_type": "code",
   "execution_count": 321,
   "metadata": {},
   "outputs": [
    {
     "data": {
      "image/png": "[encoded data removed]",
      "text/plain": [
       "<matplotlib.figure.Figure at 0x7f075b4e8b50>"
      ]
     },
     "metadata": {},
     "output_type": "display_data"
    }
   ],
   "source": [
    "bins = np.arange(0, 1.05, 0.05)\n",
    "group = query.groupby('perc_presenca')['perc_presenca']\n",
    "group.plot(kind='hist', figsize=(20,10), fontsize=15, bins=bins)\n",
    "plt.title('Distribuicao do percentual de presenca entre os calouros nao nascidos em Manaus em 2013', fontsize=15)\n",
    "plt.xlabel('Percentual de presenca', fontsize=15)\n",
    "plt.ylabel('Frequencia dos estudantes', fontsize=15)\n",
    "plt.show()"
   ]
  },
  {
   "cell_type": "markdown",
   "metadata": {},
   "source": [
    "## 2. Gráficos de duas dimensões"
   ]
  },
  {
   "cell_type": "markdown",
   "metadata": {},
   "source": [
    "O seguinte gráfico mostra a relação entre a situação na disciplina de <i>Cálculo I</i> e a quantidade de faltas"
   ]
  },
  {
   "cell_type": "code",
   "execution_count": 377,
   "metadata": {},
   "outputs": [],
   "source": [
    "query = dataframe.query(\"(ano_ingresso == 2013) & (municipio_nascimento != 'Manaus') & (serie == 1) & (tipo_ingresso=='SAES') & nome_disciplina == 'Cálculo I'\")"
   ]
  },
  {
   "cell_type": "code",
   "execution_count": 388,
   "metadata": {},
   "outputs": [
    {
     "data": {
      "image/png": "[encoded data removed]",
      "text/plain": [
       "<matplotlib.figure.Figure at 0x7f075845c610>"
      ]
     },
     "metadata": {},
     "output_type": "display_data"
    }
   ],
   "source": [
    "plt.figure(figsize=(20,10))\n",
    "plt.scatter(query['situacao_hist'], query['faltas'], marker=\"o\", color='green', s=300)\n",
    "plt.show()"
   ]
  },
  {
   "cell_type": "code",
   "execution_count": null,
   "metadata": {},
   "outputs": [],
   "source": [
    "query = dataframe.query(\"(ano_ingresso == 2013) & (municipio_nascimento != 'Manaus') & (serie == 1) & (tipo_ingresso=='SAES') & nome_disciplina == 'Cálculo I'\")"
   ]
  },
  {
   "cell_type": "code",
   "execution_count": null,
   "metadata": {},
   "outputs": [],
   "source": [
    "plt.figure(figsize=(20,10))\n",
    "plt.scatter(query['situacao_hist'], query['faltas'], marker=\"o\", color='green', s=300)\n",
    "plt.show()"
   ]
  },
  {
   "cell_type": "markdown",
   "metadata": {},
   "source": [
    "## 3. Análise de correlação"
   ]
  },
  {
   "cell_type": "markdown",
   "metadata": {},
   "source": [
    "Medida do grau de interdependência numérica entre duas variáveis aleatórias."
   ]
  },
  {
   "cell_type": "code",
   "execution_count": 391,
   "metadata": {},
   "outputs": [
    {
     "data": {
      "text/html": [
       "<div>\n",
       "<style scoped>\n",
       "    .dataframe tbody tr th:only-of-type {\n",
       "        vertical-align: middle;\n",
       "    }\n",
       "\n",
       "    .dataframe tbody tr th {\n",
       "        vertical-align: top;\n",
       "    }\n",
       "\n",
       "    .dataframe thead th {\n",
       "        text-align: right;\n",
       "    }\n",
       "</style>\n",
       "<table border=\"1\" class=\"dataframe\">\n",
       "  <thead>\n",
       "    <tr style=\"text-align: right;\">\n",
       "      <th></th>\n",
       "      <th>aluno</th>\n",
       "      <th>ano_ingresso</th>\n",
       "      <th>serie</th>\n",
       "      <th>perc_presenca</th>\n",
       "      <th>faltas</th>\n",
       "      <th>idade</th>\n",
       "    </tr>\n",
       "  </thead>\n",
       "  <tbody>\n",
       "    <tr>\n",
       "      <th>aluno</th>\n",
       "      <td>2.714677e+08</td>\n",
       "      <td>1351.949714</td>\n",
       "      <td>3836.716684</td>\n",
       "      <td>-315.792743</td>\n",
       "      <td>8259.004599</td>\n",
       "      <td>-10491.417283</td>\n",
       "    </tr>\n",
       "    <tr>\n",
       "      <th>ano_ingresso</th>\n",
       "      <td>1.351950e+03</td>\n",
       "      <td>0.249942</td>\n",
       "      <td>-0.258956</td>\n",
       "      <td>0.001117</td>\n",
       "      <td>-0.367128</td>\n",
       "      <td>-0.327384</td>\n",
       "    </tr>\n",
       "    <tr>\n",
       "      <th>serie</th>\n",
       "      <td>3.836717e+03</td>\n",
       "      <td>-0.258956</td>\n",
       "      <td>7.680950</td>\n",
       "      <td>-0.027427</td>\n",
       "      <td>3.827333</td>\n",
       "      <td>-1.030618</td>\n",
       "    </tr>\n",
       "    <tr>\n",
       "      <th>perc_presenca</th>\n",
       "      <td>-3.157927e+02</td>\n",
       "      <td>0.001117</td>\n",
       "      <td>-0.027427</td>\n",
       "      <td>0.068619</td>\n",
       "      <td>-2.576692</td>\n",
       "      <td>-0.095906</td>\n",
       "    </tr>\n",
       "    <tr>\n",
       "      <th>faltas</th>\n",
       "      <td>8.259005e+03</td>\n",
       "      <td>-0.367128</td>\n",
       "      <td>3.827333</td>\n",
       "      <td>-2.576692</td>\n",
       "      <td>311.180453</td>\n",
       "      <td>1.996141</td>\n",
       "    </tr>\n",
       "    <tr>\n",
       "      <th>idade</th>\n",
       "      <td>-1.049142e+04</td>\n",
       "      <td>-0.327384</td>\n",
       "      <td>-1.030618</td>\n",
       "      <td>-0.095906</td>\n",
       "      <td>1.996141</td>\n",
       "      <td>8218.986087</td>\n",
       "    </tr>\n",
       "  </tbody>\n",
       "</table>\n",
       "</div>"
      ],
      "text/plain": [
       "                      aluno  ano_ingresso        serie  perc_presenca  \\\n",
       "aluno          2.714677e+08   1351.949714  3836.716684    -315.792743   \n",
       "ano_ingresso   1.351950e+03      0.249942    -0.258956       0.001117   \n",
       "serie          3.836717e+03     -0.258956     7.680950      -0.027427   \n",
       "perc_presenca -3.157927e+02      0.001117    -0.027427       0.068619   \n",
       "faltas         8.259005e+03     -0.367128     3.827333      -2.576692   \n",
       "idade         -1.049142e+04     -0.327384    -1.030618      -0.095906   \n",
       "\n",
       "                    faltas         idade  \n",
       "aluno          8259.004599 -10491.417283  \n",
       "ano_ingresso     -0.367128     -0.327384  \n",
       "serie             3.827333     -1.030618  \n",
       "perc_presenca    -2.576692     -0.095906  \n",
       "faltas          311.180453      1.996141  \n",
       "idade             1.996141   8218.986087  "
      ]
     },
     "execution_count": 391,
     "metadata": {},
     "output_type": "execute_result"
    }
   ],
   "source": [
    "dataframe.cov()"
   ]
  },
  {
   "cell_type": "markdown",
   "metadata": {},
   "source": [
    "O coeficiente de correlação de Pearson é uma medida para uma relação linear entre dois atributos numéricos X e Y."
   ]
  },
  {
   "cell_type": "code",
   "execution_count": 392,
   "metadata": {},
   "outputs": [
    {
     "data": {
      "text/html": [
       "<div>\n",
       "<style scoped>\n",
       "    .dataframe tbody tr th:only-of-type {\n",
       "        vertical-align: middle;\n",
       "    }\n",
       "\n",
       "    .dataframe tbody tr th {\n",
       "        vertical-align: top;\n",
       "    }\n",
       "\n",
       "    .dataframe thead th {\n",
       "        text-align: right;\n",
       "    }\n",
       "</style>\n",
       "<table border=\"1\" class=\"dataframe\">\n",
       "  <thead>\n",
       "    <tr style=\"text-align: right;\">\n",
       "      <th></th>\n",
       "      <th>aluno</th>\n",
       "      <th>ano_ingresso</th>\n",
       "      <th>serie</th>\n",
       "      <th>perc_presenca</th>\n",
       "      <th>faltas</th>\n",
       "      <th>idade</th>\n",
       "    </tr>\n",
       "  </thead>\n",
       "  <tbody>\n",
       "    <tr>\n",
       "      <th>aluno</th>\n",
       "      <td>1.000000</td>\n",
       "      <td>0.164128</td>\n",
       "      <td>0.084022</td>\n",
       "      <td>-0.073168</td>\n",
       "      <td>0.028416</td>\n",
       "      <td>-0.007024</td>\n",
       "    </tr>\n",
       "    <tr>\n",
       "      <th>ano_ingresso</th>\n",
       "      <td>0.164128</td>\n",
       "      <td>1.000000</td>\n",
       "      <td>-0.186896</td>\n",
       "      <td>0.008532</td>\n",
       "      <td>-0.041629</td>\n",
       "      <td>-0.007223</td>\n",
       "    </tr>\n",
       "    <tr>\n",
       "      <th>serie</th>\n",
       "      <td>0.084022</td>\n",
       "      <td>-0.186896</td>\n",
       "      <td>1.000000</td>\n",
       "      <td>-0.037779</td>\n",
       "      <td>0.078286</td>\n",
       "      <td>-0.004102</td>\n",
       "    </tr>\n",
       "    <tr>\n",
       "      <th>perc_presenca</th>\n",
       "      <td>-0.073168</td>\n",
       "      <td>0.008532</td>\n",
       "      <td>-0.037779</td>\n",
       "      <td>1.000000</td>\n",
       "      <td>-0.557615</td>\n",
       "      <td>-0.004038</td>\n",
       "    </tr>\n",
       "    <tr>\n",
       "      <th>faltas</th>\n",
       "      <td>0.028416</td>\n",
       "      <td>-0.041629</td>\n",
       "      <td>0.078286</td>\n",
       "      <td>-0.557615</td>\n",
       "      <td>1.000000</td>\n",
       "      <td>0.001248</td>\n",
       "    </tr>\n",
       "    <tr>\n",
       "      <th>idade</th>\n",
       "      <td>-0.007024</td>\n",
       "      <td>-0.007223</td>\n",
       "      <td>-0.004102</td>\n",
       "      <td>-0.004038</td>\n",
       "      <td>0.001248</td>\n",
       "      <td>1.000000</td>\n",
       "    </tr>\n",
       "  </tbody>\n",
       "</table>\n",
       "</div>"
      ],
      "text/plain": [
       "                  aluno  ano_ingresso     serie  perc_presenca    faltas  \\\n",
       "aluno          1.000000      0.164128  0.084022      -0.073168  0.028416   \n",
       "ano_ingresso   0.164128      1.000000 -0.186896       0.008532 -0.041629   \n",
       "serie          0.084022     -0.186896  1.000000      -0.037779  0.078286   \n",
       "perc_presenca -0.073168      0.008532 -0.037779       1.000000 -0.557615   \n",
       "faltas         0.028416     -0.041629  0.078286      -0.557615  1.000000   \n",
       "idade         -0.007024     -0.007223 -0.004102      -0.004038  0.001248   \n",
       "\n",
       "                  idade  \n",
       "aluno         -0.007024  \n",
       "ano_ingresso  -0.007223  \n",
       "serie         -0.004102  \n",
       "perc_presenca -0.004038  \n",
       "faltas         0.001248  \n",
       "idade          1.000000  "
      ]
     },
     "execution_count": 392,
     "metadata": {},
     "output_type": "execute_result"
    }
   ],
   "source": [
    "dataframe.corr(method='pearson')"
   ]
  },
  {
   "cell_type": "markdown",
   "metadata": {},
   "source": [
    "Ambas as variáveis devem ser medidas no mínimo em nível ordinal, de forma que seja possível atribuir postos a cada uma das variáveis"
   ]
  },
  {
   "cell_type": "code",
   "execution_count": 393,
   "metadata": {},
   "outputs": [
    {
     "data": {
      "text/html": [
       "<div>\n",
       "<style scoped>\n",
       "    .dataframe tbody tr th:only-of-type {\n",
       "        vertical-align: middle;\n",
       "    }\n",
       "\n",
       "    .dataframe tbody tr th {\n",
       "        vertical-align: top;\n",
       "    }\n",
       "\n",
       "    .dataframe thead th {\n",
       "        text-align: right;\n",
       "    }\n",
       "</style>\n",
       "<table border=\"1\" class=\"dataframe\">\n",
       "  <thead>\n",
       "    <tr style=\"text-align: right;\">\n",
       "      <th></th>\n",
       "      <th>aluno</th>\n",
       "      <th>ano_ingresso</th>\n",
       "      <th>serie</th>\n",
       "      <th>perc_presenca</th>\n",
       "      <th>faltas</th>\n",
       "      <th>idade</th>\n",
       "    </tr>\n",
       "  </thead>\n",
       "  <tbody>\n",
       "    <tr>\n",
       "      <th>aluno</th>\n",
       "      <td>1.000000</td>\n",
       "      <td>0.134011</td>\n",
       "      <td>0.055029</td>\n",
       "      <td>-0.037279</td>\n",
       "      <td>0.018640</td>\n",
       "      <td>0.143425</td>\n",
       "    </tr>\n",
       "    <tr>\n",
       "      <th>ano_ingresso</th>\n",
       "      <td>0.134011</td>\n",
       "      <td>1.000000</td>\n",
       "      <td>-0.163998</td>\n",
       "      <td>0.040354</td>\n",
       "      <td>-0.060304</td>\n",
       "      <td>-0.068363</td>\n",
       "    </tr>\n",
       "    <tr>\n",
       "      <th>serie</th>\n",
       "      <td>0.055029</td>\n",
       "      <td>-0.163998</td>\n",
       "      <td>1.000000</td>\n",
       "      <td>-0.082026</td>\n",
       "      <td>0.095981</td>\n",
       "      <td>-0.205829</td>\n",
       "    </tr>\n",
       "    <tr>\n",
       "      <th>perc_presenca</th>\n",
       "      <td>-0.037279</td>\n",
       "      <td>0.040354</td>\n",
       "      <td>-0.082026</td>\n",
       "      <td>1.000000</td>\n",
       "      <td>-0.767684</td>\n",
       "      <td>-0.020544</td>\n",
       "    </tr>\n",
       "    <tr>\n",
       "      <th>faltas</th>\n",
       "      <td>0.018640</td>\n",
       "      <td>-0.060304</td>\n",
       "      <td>0.095981</td>\n",
       "      <td>-0.767684</td>\n",
       "      <td>1.000000</td>\n",
       "      <td>-0.015245</td>\n",
       "    </tr>\n",
       "    <tr>\n",
       "      <th>idade</th>\n",
       "      <td>0.143425</td>\n",
       "      <td>-0.068363</td>\n",
       "      <td>-0.205829</td>\n",
       "      <td>-0.020544</td>\n",
       "      <td>-0.015245</td>\n",
       "      <td>1.000000</td>\n",
       "    </tr>\n",
       "  </tbody>\n",
       "</table>\n",
       "</div>"
      ],
      "text/plain": [
       "                  aluno  ano_ingresso     serie  perc_presenca    faltas  \\\n",
       "aluno          1.000000      0.134011  0.055029      -0.037279  0.018640   \n",
       "ano_ingresso   0.134011      1.000000 -0.163998       0.040354 -0.060304   \n",
       "serie          0.055029     -0.163998  1.000000      -0.082026  0.095981   \n",
       "perc_presenca -0.037279      0.040354 -0.082026       1.000000 -0.767684   \n",
       "faltas         0.018640     -0.060304  0.095981      -0.767684  1.000000   \n",
       "idade          0.143425     -0.068363 -0.205829      -0.020544 -0.015245   \n",
       "\n",
       "                  idade  \n",
       "aluno          0.143425  \n",
       "ano_ingresso  -0.068363  \n",
       "serie         -0.205829  \n",
       "perc_presenca -0.020544  \n",
       "faltas        -0.015245  \n",
       "idade          1.000000  "
      ]
     },
     "execution_count": 393,
     "metadata": {},
     "output_type": "execute_result"
    }
   ],
   "source": [
    "dataframe.corr(method='kendall')"
   ]
  },
  {
   "cell_type": "markdown",
   "metadata": {},
   "source": [
    "Se dois ou mais valores coincidirem, sua classificação não está definida."
   ]
  },
  {
   "cell_type": "code",
   "execution_count": 394,
   "metadata": {},
   "outputs": [
    {
     "data": {
      "text/html": [
       "<div>\n",
       "<style scoped>\n",
       "    .dataframe tbody tr th:only-of-type {\n",
       "        vertical-align: middle;\n",
       "    }\n",
       "\n",
       "    .dataframe tbody tr th {\n",
       "        vertical-align: top;\n",
       "    }\n",
       "\n",
       "    .dataframe thead th {\n",
       "        text-align: right;\n",
       "    }\n",
       "</style>\n",
       "<table border=\"1\" class=\"dataframe\">\n",
       "  <thead>\n",
       "    <tr style=\"text-align: right;\">\n",
       "      <th></th>\n",
       "      <th>aluno</th>\n",
       "      <th>ano_ingresso</th>\n",
       "      <th>serie</th>\n",
       "      <th>perc_presenca</th>\n",
       "      <th>faltas</th>\n",
       "      <th>idade</th>\n",
       "    </tr>\n",
       "  </thead>\n",
       "  <tbody>\n",
       "    <tr>\n",
       "      <th>aluno</th>\n",
       "      <td>1.000000</td>\n",
       "      <td>0.164128</td>\n",
       "      <td>0.069715</td>\n",
       "      <td>-0.050216</td>\n",
       "      <td>0.025211</td>\n",
       "      <td>0.205366</td>\n",
       "    </tr>\n",
       "    <tr>\n",
       "      <th>ano_ingresso</th>\n",
       "      <td>0.164128</td>\n",
       "      <td>1.000000</td>\n",
       "      <td>-0.186776</td>\n",
       "      <td>0.044845</td>\n",
       "      <td>-0.068622</td>\n",
       "      <td>-0.077890</td>\n",
       "    </tr>\n",
       "    <tr>\n",
       "      <th>serie</th>\n",
       "      <td>0.069715</td>\n",
       "      <td>-0.186776</td>\n",
       "      <td>1.000000</td>\n",
       "      <td>-0.103944</td>\n",
       "      <td>0.124412</td>\n",
       "      <td>-0.268459</td>\n",
       "    </tr>\n",
       "    <tr>\n",
       "      <th>perc_presenca</th>\n",
       "      <td>-0.050216</td>\n",
       "      <td>0.044845</td>\n",
       "      <td>-0.103944</td>\n",
       "      <td>1.000000</td>\n",
       "      <td>-0.801840</td>\n",
       "      <td>-0.024859</td>\n",
       "    </tr>\n",
       "    <tr>\n",
       "      <th>faltas</th>\n",
       "      <td>0.025211</td>\n",
       "      <td>-0.068622</td>\n",
       "      <td>0.124412</td>\n",
       "      <td>-0.801840</td>\n",
       "      <td>1.000000</td>\n",
       "      <td>-0.020857</td>\n",
       "    </tr>\n",
       "    <tr>\n",
       "      <th>idade</th>\n",
       "      <td>0.205366</td>\n",
       "      <td>-0.077890</td>\n",
       "      <td>-0.268459</td>\n",
       "      <td>-0.024859</td>\n",
       "      <td>-0.020857</td>\n",
       "      <td>1.000000</td>\n",
       "    </tr>\n",
       "  </tbody>\n",
       "</table>\n",
       "</div>"
      ],
      "text/plain": [
       "                  aluno  ano_ingresso     serie  perc_presenca    faltas  \\\n",
       "aluno          1.000000      0.164128  0.069715      -0.050216  0.025211   \n",
       "ano_ingresso   0.164128      1.000000 -0.186776       0.044845 -0.068622   \n",
       "serie          0.069715     -0.186776  1.000000      -0.103944  0.124412   \n",
       "perc_presenca -0.050216      0.044845 -0.103944       1.000000 -0.801840   \n",
       "faltas         0.025211     -0.068622  0.124412      -0.801840  1.000000   \n",
       "idade          0.205366     -0.077890 -0.268459      -0.024859 -0.020857   \n",
       "\n",
       "                  idade  \n",
       "aluno          0.205366  \n",
       "ano_ingresso  -0.077890  \n",
       "serie         -0.268459  \n",
       "perc_presenca -0.024859  \n",
       "faltas        -0.020857  \n",
       "idade          1.000000  "
      ]
     },
     "execution_count": 394,
     "metadata": {},
     "output_type": "execute_result"
    }
   ],
   "source": [
    "dataframe.corr(method='spearman')"
   ]
  },
  {
   "cell_type": "markdown",
   "metadata": {},
   "source": []
  }
 ],
 "metadata": {
  "kernelspec": {
   "display_name": "Python 2",
   "language": "python",
   "name": "python2"
  },
  "language_info": {
   "codemirror_mode": {
    "name": "ipython",
    "version": 2
   },
   "file_extension": ".py",
   "mimetype": "text/x-python",
   "name": "python",
   "nbconvert_exporter": "python",
   "pygments_lexer": "ipython2",
   "version": "2.7.14"
  }
 },
 "nbformat": 4,
 "nbformat_minor": 2
}
