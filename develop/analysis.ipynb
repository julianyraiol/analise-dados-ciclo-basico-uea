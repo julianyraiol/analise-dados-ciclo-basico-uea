{
 "cells": [
  {
   "cell_type": "markdown",
   "metadata": {},
   "source": [
    "# Análise do aproveitamento dos estudantes da Universidade do Estado do Amazonas\n",
    "> Aluna: Juliany Raiol"
   ]
  },
  {
   "cell_type": "markdown",
   "metadata": {},
   "source": [
    "## Introdução"
   ]
  },
  {
   "cell_type": "markdown",
   "metadata": {},
   "source": [
    "Este dataset contém informações sobre os alunos do que cursaram matérias ofertadas durante o período de 2013 - 2014 na Universidade do Estado do Amazonas (UEA). Inicialmente, considerou-se que havia apenas dados referentes à matérias do ciclo básico, no entanto, após o processo de análise observou-se que há também informações de alunos veteranos.\n",
    "\n",
    "O objetivo dessa análise é poder verificar quais matérias possuem maior índice de reprovação, bem como, descobrir se há uma ligação entre a origem do aluno e seu desempenho acadêmico."
   ]
  },
  {
   "cell_type": "markdown",
   "metadata": {},
   "source": [
    "## Considerações que deseja-se responder com esta análise"
   ]
  },
  {
   "cell_type": "markdown",
   "metadata": {},
   "source": [
    "1. É possível considerar que alunos provenientes de municípios distantes da capital possuem desempenho menor que outros?\n",
    "2. Qual a faixa etária dos alunos que entram na universidade por meio do SAES (antigo SIS)?\n",
    "3. Há muitos alunos veteranos que ainda cursam matérias consideradas do ciclo básico?\n",
    "4. A média de reprovação qual nos cursos de Análise e Desenvolvimento de Sistemas e Sistemas de Informação é menor que em cursos de Engenharia?"
   ]
  },
  {
   "cell_type": "code",
   "execution_count": 1,
   "metadata": {},
   "outputs": [],
   "source": [
    "import pandas as pd\n",
    "import numpy as np\n",
    "%matplotlib inline\n",
    "import matplotlib.pyplot as plt"
   ]
  },
  {
   "cell_type": "code",
   "execution_count": 2,
   "metadata": {
    "scrolled": true
   },
   "outputs": [
    {
     "data": {
      "text/html": [
       "<div>\n",
       "<style scoped>\n",
       "    .dataframe tbody tr th:only-of-type {\n",
       "        vertical-align: middle;\n",
       "    }\n",
       "\n",
       "    .dataframe tbody tr th {\n",
       "        vertical-align: top;\n",
       "    }\n",
       "\n",
       "    .dataframe thead th {\n",
       "        text-align: right;\n",
       "    }\n",
       "</style>\n",
       "<table border=\"1\" class=\"dataframe\">\n",
       "  <thead>\n",
       "    <tr style=\"text-align: right;\">\n",
       "      <th></th>\n",
       "      <th>aluno</th>\n",
       "      <th>municipio_nascimento</th>\n",
       "      <th>dt_nasc</th>\n",
       "      <th>id_curso</th>\n",
       "      <th>nome_curso</th>\n",
       "      <th>tipo_ingresso</th>\n",
       "      <th>ano_ingresso</th>\n",
       "      <th>unidade_fisica</th>\n",
       "      <th>serie</th>\n",
       "      <th>id_disciplina</th>\n",
       "      <th>nome_disciplina</th>\n",
       "      <th>nota_final</th>\n",
       "      <th>situacao_hist</th>\n",
       "      <th>perc_presenca</th>\n",
       "      <th>faltas</th>\n",
       "    </tr>\n",
       "  </thead>\n",
       "  <tbody>\n",
       "    <tr>\n",
       "      <th>0</th>\n",
       "      <td>1</td>\n",
       "      <td>Manaus</td>\n",
       "      <td>23/07/1995</td>\n",
       "      <td>EST17KSN</td>\n",
       "      <td>Análise e Desenvolvimento de Sistemas</td>\n",
       "      <td>SAES</td>\n",
       "      <td>2013</td>\n",
       "      <td>EST</td>\n",
       "      <td>1.0</td>\n",
       "      <td>ESTTPD108</td>\n",
       "      <td>Algoritmos e Programação</td>\n",
       "      <td>5.17</td>\n",
       "      <td>Rep Nota</td>\n",
       "      <td>0.9200</td>\n",
       "      <td>6.0</td>\n",
       "    </tr>\n",
       "    <tr>\n",
       "      <th>1</th>\n",
       "      <td>2</td>\n",
       "      <td>Manaus</td>\n",
       "      <td>23/07/1995</td>\n",
       "      <td>EST17KSN</td>\n",
       "      <td>Análise e Desenvolvimento de Sistemas</td>\n",
       "      <td>SAES</td>\n",
       "      <td>2013</td>\n",
       "      <td>EST</td>\n",
       "      <td>1.0</td>\n",
       "      <td>ESTBAS006</td>\n",
       "      <td>Comunicação e Expressão</td>\n",
       "      <td>6.00</td>\n",
       "      <td>Aprovado</td>\n",
       "      <td>1.0000</td>\n",
       "      <td>-1.0</td>\n",
       "    </tr>\n",
       "    <tr>\n",
       "      <th>2</th>\n",
       "      <td>3</td>\n",
       "      <td>Manaus</td>\n",
       "      <td>23/07/1995</td>\n",
       "      <td>EST17KSN</td>\n",
       "      <td>Análise e Desenvolvimento de Sistemas</td>\n",
       "      <td>SAES</td>\n",
       "      <td>2013</td>\n",
       "      <td>EST</td>\n",
       "      <td>1.0</td>\n",
       "      <td>ESTBAS002</td>\n",
       "      <td>Cálculo I</td>\n",
       "      <td>2.9</td>\n",
       "      <td>Rep Nota</td>\n",
       "      <td>1.0000</td>\n",
       "      <td>0.0</td>\n",
       "    </tr>\n",
       "    <tr>\n",
       "      <th>3</th>\n",
       "      <td>4</td>\n",
       "      <td>Manaus</td>\n",
       "      <td>23/07/1995</td>\n",
       "      <td>EST17KSN</td>\n",
       "      <td>Análise e Desenvolvimento de Sistemas</td>\n",
       "      <td>SAES</td>\n",
       "      <td>2013</td>\n",
       "      <td>EST</td>\n",
       "      <td>1.0</td>\n",
       "      <td>ESTBAS035</td>\n",
       "      <td>Empreendedorismo</td>\n",
       "      <td>8.50</td>\n",
       "      <td>Aprovado</td>\n",
       "      <td>1.0000</td>\n",
       "      <td>-1.0</td>\n",
       "    </tr>\n",
       "    <tr>\n",
       "      <th>4</th>\n",
       "      <td>5</td>\n",
       "      <td>Manaus</td>\n",
       "      <td>23/07/1995</td>\n",
       "      <td>EST17KSN</td>\n",
       "      <td>Análise e Desenvolvimento de Sistemas</td>\n",
       "      <td>SAES</td>\n",
       "      <td>2013</td>\n",
       "      <td>EST</td>\n",
       "      <td>1.0</td>\n",
       "      <td>ESTTPD100</td>\n",
       "      <td>Introdução à Computação</td>\n",
       "      <td>7.70</td>\n",
       "      <td>Aprovado</td>\n",
       "      <td>0.8667</td>\n",
       "      <td>8.0</td>\n",
       "    </tr>\n",
       "  </tbody>\n",
       "</table>\n",
       "</div>"
      ],
      "text/plain": [
       "   aluno municipio_nascimento     dt_nasc  id_curso  \\\n",
       "0      1               Manaus  23/07/1995  EST17KSN   \n",
       "1      2               Manaus  23/07/1995  EST17KSN   \n",
       "2      3               Manaus  23/07/1995  EST17KSN   \n",
       "3      4               Manaus  23/07/1995  EST17KSN   \n",
       "4      5               Manaus  23/07/1995  EST17KSN   \n",
       "\n",
       "                              nome_curso tipo_ingresso  ano_ingresso  \\\n",
       "0  Análise e Desenvolvimento de Sistemas          SAES          2013   \n",
       "1  Análise e Desenvolvimento de Sistemas          SAES          2013   \n",
       "2  Análise e Desenvolvimento de Sistemas          SAES          2013   \n",
       "3  Análise e Desenvolvimento de Sistemas          SAES          2013   \n",
       "4  Análise e Desenvolvimento de Sistemas          SAES          2013   \n",
       "\n",
       "  unidade_fisica  serie id_disciplina           nome_disciplina nota_final  \\\n",
       "0            EST    1.0     ESTTPD108  Algoritmos e Programação       5.17   \n",
       "1            EST    1.0     ESTBAS006   Comunicação e Expressão       6.00   \n",
       "2            EST    1.0     ESTBAS002                 Cálculo I        2.9   \n",
       "3            EST    1.0     ESTBAS035          Empreendedorismo       8.50   \n",
       "4            EST    1.0     ESTTPD100   Introdução à Computação       7.70   \n",
       "\n",
       "  situacao_hist  perc_presenca  faltas  \n",
       "0      Rep Nota         0.9200     6.0  \n",
       "1      Aprovado         1.0000    -1.0  \n",
       "2      Rep Nota         1.0000     0.0  \n",
       "3      Aprovado         1.0000    -1.0  \n",
       "4      Aprovado         0.8667     8.0  "
      ]
     },
     "execution_count": 2,
     "metadata": {},
     "output_type": "execute_result"
    }
   ],
   "source": [
    "dataframe = pd.read_csv('../data/lyceum_2013_2014.csv')\n",
    "dataframe.head()"
   ]
  },
  {
   "cell_type": "markdown",
   "metadata": {},
   "source": [
    "## Características dos atributos"
   ]
  },
  {
   "cell_type": "markdown",
   "metadata": {},
   "source": [
    "Os atributos encontrados nesse dataset foram classificados como numérico, norminal e ordinal. Pode-se perceber que a quantidade de atributos nominais é maior que os demais tipos.\n",
    "\n",
    "Há cerca de 57075 linhas e 15 colunas. As colunas compreendem: <i> aluno</i>, <i>municipio_nascimento</i>, <i>dt_nasc</i>, <i>id_curso</i>, <i>nome_curso</i>, <i>tipo_ingresso</i>, <i>ano_ingresso</i>, <i>unidade_fisica</i>, <i>serie</i>, <i>id_disciplina</i>, <i>nome_disciplina</i>, <i>nota_final</i>, <i>situacao_hist</i>, <i>perc_presenca</i> e <i>faltas</i>."
   ]
  },
  {
   "cell_type": "markdown",
   "metadata": {},
   "source": [
    "\n",
    "\n",
    "| Nome da Coluna     |Classificação  |\n",
    "|:------------------:|:-------------:|\n",
    "| aluno              |  numérico     |\n",
    "|municipio_nascimento|  nominal      |  \n",
    "| dt_nasc            |  nominal      |\n",
    "| id_curso           |  nominal      |\n",
    "| nome_curso         |  nominal      |\n",
    "| tipo_ingresso      |  nominal      |\n",
    "| ano_ingresso       |  numérico     |\n",
    "| unidade_fisica     |  nominal      |\n",
    "| serie              |  ordinais     |\n",
    "| id_disciplina      |  nominal      |\n",
    "| nome_disciplina    |  nominal      |\n",
    "| nota final         |  nominal      |\n",
    "| situacao_hist      |  nominal      |\n",
    "| perc_presenca      |  numérico     |\n",
    "| faltas             |  numérico     |"
   ]
  },
  {
   "cell_type": "markdown",
   "metadata": {},
   "source": [
    "## Qualidade dos dados"
   ]
  },
  {
   "cell_type": "markdown",
   "metadata": {},
   "source": [
    "<strong> Precisão: </strong> Os dados mostraram-se imprecisos em certas colunas como, por exemplo, em <i> faltas </i> e <i> perc_presenca</i>, havia situações em que os devidos valores não foram cadastrados, alunos que não possuíam faltas lançadas e percentual de presença era nulo. Em certos casos, os que tinham essas características eram aqueles que foram <i> dispensados</i> da disciplina ou haviam <i>trancado</i> a matéria. Em <i>nota final</i>, em determinados campos, ao invés de nulo, encontrava-se apenas espaço em branco (' ')."
   ]
  },
  {
   "cell_type": "markdown",
   "metadata": {},
   "source": [
    "<strong>Precisão semântica: </strong> Nas colunas de <i> faltas </i> e <i> perc_presenca</i>, os valore estavam como string e precisariam estar como ponto flutuante. Logo, fora do alcance da precisão semântica."
   ]
  },
  {
   "cell_type": "markdown",
   "metadata": {},
   "source": [
    "<strong> Precisão sintática: </strong> Nas coluna de <i>nota final </i>, havia valores representados por espaços vazios (' ')."
   ]
  },
  {
   "cell_type": "markdown",
   "metadata": {},
   "source": [
    "<strong>Completude</strong>: Havia valores em falta, no entanto, após formação o dataset contém as informações necessárias para análise."
   ]
  },
  {
   "cell_type": "markdown",
   "metadata": {},
   "source": [
    "<strong>Pontualidade:</strong> Os dados não são tão antigos. Compreendem o período de 2013 - 2014."
   ]
  },
  {
   "cell_type": "markdown",
   "metadata": {},
   "source": [
    "## Visualização dos dados"
   ]
  },
  {
   "cell_type": "code",
   "execution_count": 6,
   "metadata": {},
   "outputs": [
    {
     "data": {
      "text/plain": [
       "municipio_nascimento\n",
       "Abrantes                       7\n",
       "Acupe                         18\n",
       "Ademar De Barros              18\n",
       "Adustina                      18\n",
       "Agisse                        81\n",
       "Alenquer                     165\n",
       "Alvaraes                      30\n",
       "Amatura                       17\n",
       "Andradina                     44\n",
       "Anori                         38\n",
       "Arequipa                      23\n",
       "Ariquemes                     58\n",
       "Autazes                       37\n",
       "Axixa Do Tocantins            87\n",
       "Bacabal                       22\n",
       "Barcelos                      77\n",
       "Barreirinha                    9\n",
       "Belo Horizonte                14\n",
       "Belém                        532\n",
       "Benjamin Constant            167\n",
       "Boa Vista                    126\n",
       "Boa Vista Do Ramos             5\n",
       "Boca Do Acre                 127\n",
       "Borba                         17\n",
       "Botucatu                      18\n",
       "Brasilia                      29\n",
       "Brejo Santo                   11\n",
       "Caico                         80\n",
       "Camocim                       41\n",
       "Campina Grande                49\n",
       "                            ... \n",
       "Santa Isabel Do Rio Negro    137\n",
       "Santa Luzia                   46\n",
       "Santa Maria                   14\n",
       "Santarém                     487\n",
       "Santo Antonio Do Ica          63\n",
       "Santos                        44\n",
       "Sao Bernardo Do Campo         14\n",
       "Sao Carlos                    14\n",
       "Sao Jose Dos Campos           76\n",
       "Sao Luis                      34\n",
       "Sao Paulo                    255\n",
       "Sao Paulo De Olivença         96\n",
       "Sao Pedro Da Agua Branca      18\n",
       "Senador Pompeu                15\n",
       "Silves                        75\n",
       "São Gabriel Da Cachoeira     464\n",
       "São Sebastião Do Uatumã        6\n",
       "Tabatinga                    397\n",
       "Tapauá                        53\n",
       "Tefé                         306\n",
       "Tenente Ananias               13\n",
       "Teresina                      26\n",
       "Terra Santa                   92\n",
       "Tonantins                     36\n",
       "Tres Coracoes                 36\n",
       "Tres Marias                   13\n",
       "Tucurui                       14\n",
       "Urucara                       39\n",
       "Vianopolis                    13\n",
       "Volta Redonda                 15\n",
       "Length: 147, dtype: int64"
      ]
     },
     "execution_count": 6,
     "metadata": {},
     "output_type": "execute_result"
    }
   ],
   "source": [
    "dataframe.groupby('municipio_nascimento').size()"
   ]
  },
  {
   "cell_type": "markdown",
   "metadata": {},
   "source": []
  }
 ],
 "metadata": {
  "kernelspec": {
   "display_name": "Python 3",
   "language": "python",
   "name": "python3"
  },
  "language_info": {
   "codemirror_mode": {
    "name": "ipython",
    "version": 3
   },
   "file_extension": ".py",
   "mimetype": "text/x-python",
   "name": "python",
   "nbconvert_exporter": "python",
   "pygments_lexer": "ipython3",
   "version": "3.6.4"
  }
 },
 "nbformat": 4,
 "nbformat_minor": 2
}
